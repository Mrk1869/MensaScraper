{
 "metadata": {
  "name": "PlayGround"
 },
 "nbformat": 3,
 "nbformat_minor": 0,
 "worksheets": [
  {
   "cells": [
    {
     "cell_type": "code",
     "collapsed": false,
     "input": [
      "import urllib2\n",
      "import BeautifulSoup\n",
      "import re\n",
      "from microsofttranslator import Translator"
     ],
     "language": "python",
     "metadata": {},
     "outputs": [],
     "prompt_number": 34
    },
    {
     "cell_type": "code",
     "collapsed": false,
     "input": [
      "url = \"http://www.mensa-kl.de/\"\n",
      "html = urllib2.urlopen(url).read()\n",
      "soup = BeautifulSoup.BeautifulSoup(html)"
     ],
     "language": "python",
     "metadata": {},
     "outputs": [],
     "prompt_number": 2
    },
    {
     "cell_type": "code",
     "collapsed": false,
     "input": [
      "today =  soup.find('div',{'id':'day1'})\n",
      "date_res = today.find('b').renderContents().strip()\n",
      "date = date_res.split(', ')[1]\n",
      "print date"
     ],
     "language": "python",
     "metadata": {},
     "outputs": [
      {
       "output_type": "stream",
       "stream": "stdout",
       "text": [
        "13.12.2013\n"
       ]
      }
     ],
     "prompt_number": 38
    },
    {
     "cell_type": "code",
     "collapsed": false,
     "input": [
      "def translate(query, to):\n",
      "    for line in open(\"./key/translator.txt\"):\n",
      "        id_match = re.match('[ \\\\t]*<ID>(.*)</ID>', line)\n",
      "        if id_match:\n",
      "            translator_id = id_match.group(1)\n",
      "        key_match = re.match('[ \\\\t]*<Key>(.*)</Key>', line)\n",
      "        if key_match:\n",
      "            translator_key = key_match.group(1)\n",
      "    translator = Translator(translator_id,translator_key)\n",
      "    return translator.translate(query, to)"
     ],
     "language": "python",
     "metadata": {},
     "outputs": [],
     "prompt_number": 27
    },
    {
     "cell_type": "code",
     "collapsed": false,
     "input": [
      "menu_raw = \"\"\n",
      "menu_name_res = today.findAll('p',{'onclick':re.compile(r'markMeal.*')})\n",
      "for name in menu_name_res[0:2]:\n",
      "    name = name.renderContents()\n",
      "    search = re.search(r'alt=\"(.*)\" title', name)\n",
      "    if search:\n",
      "        name = re.sub(r'<img.*/>', search.group(1), name)\n",
      "    menu_raw = menu_raw + name + \". \"\n",
      "\n",
      "name_translated = translate(unicode(menu_raw, 'utf-8'), \"ja\")\n",
      "menu_name = [name for name in name_translated.split(u'\u3002')]\n",
      "\n",
      "menu_image_res  = today.findAll('img',{'width':'100%'})\n",
      "menu_image = [url+image['src'][2::] for image in menu_image_res[0:2]]\n",
      "    \n",
      "print menu_name[0]\n",
      "print menu_image"
     ],
     "language": "python",
     "metadata": {},
     "outputs": [
      {
       "output_type": "stream",
       "stream": "stdout",
       "text": [
        "\u30b5\u30fc\u30e2\u30f3 \u30d5\u30a3\u30ec\u8089\u306e\u307b\u3046\u308c\u3093\u8349\u30bd\u30fc\u30b9\u3068\u91ce\u83dc\u306e\u30b9\u30d1\u30b2\u30c6\u30a3 \u30b5\u30e9\u30c0\u9b5a\n",
        "[u'http://www.mensa-kl.de/img/qm.png', u'http://www.mensa-kl.de/mimg/vj5n_IMG_0496.jpg']\n"
       ]
      }
     ],
     "prompt_number": 37
    },
    {
     "cell_type": "code",
     "collapsed": false,
     "input": [],
     "language": "python",
     "metadata": {},
     "outputs": []
    }
   ],
   "metadata": {}
  }
 ]
}