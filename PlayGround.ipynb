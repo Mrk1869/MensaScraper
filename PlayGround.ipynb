{
 "metadata": {
  "name": "PlayGround"
 },
 "nbformat": 3,
 "nbformat_minor": 0,
 "worksheets": [
  {
   "cells": [
    {
     "cell_type": "code",
     "collapsed": false,
     "input": [
      "import urllib2\n",
      "import BeautifulSoup\n",
      "import re\n",
      "from microsofttranslator import Translator"
     ],
     "language": "python",
     "metadata": {},
     "outputs": [],
     "prompt_number": 1
    },
    {
     "cell_type": "code",
     "collapsed": false,
     "input": [
      "url = \"http://www.mensa-kl.de/\"\n",
      "html = urllib2.urlopen(url).read()\n",
      "soup = BeautifulSoup.BeautifulSoup(html)"
     ],
     "language": "python",
     "metadata": {},
     "outputs": [],
     "prompt_number": 2
    },
    {
     "cell_type": "code",
     "collapsed": false,
     "input": [
      "today =  soup.find('div',{'id':'day1'})\n",
      "date_res = today.find('b').renderContents().strip()\n",
      "date = date_res.split(', ')[1]\n",
      "print date"
     ],
     "language": "python",
     "metadata": {},
     "outputs": [
      {
       "output_type": "stream",
       "stream": "stdout",
       "text": [
        "13.12.2013\n"
       ]
      }
     ],
     "prompt_number": 3
    },
    {
     "cell_type": "code",
     "collapsed": false,
     "input": [
      "def translate(query, to):\n",
      "    for line in open(\"./key/translator.txt\"):\n",
      "        id_match = re.match('[ \\\\t]*<ID>(.*)</ID>', line)\n",
      "        if id_match:\n",
      "            translator_id = id_match.group(1)\n",
      "        key_match = re.match('[ \\\\t]*<Key>(.*)</Key>', line)\n",
      "        if key_match:\n",
      "            translator_key = key_match.group(1)\n",
      "    translator = Translator(translator_id,translator_key)\n",
      "    return translator.translate(query, to)"
     ],
     "language": "python",
     "metadata": {},
     "outputs": [],
     "prompt_number": 4
    },
    {
     "cell_type": "code",
     "collapsed": false,
     "input": [
      "menu_raw = \"\"\n",
      "menu_name_res = today.findAll('p',{'onclick':re.compile(r'markMeal.*')})\n",
      "for name in menu_name_res[0:2]:\n",
      "    name = name.renderContents()\n",
      "    search = re.search(r'alt=\"(.*)\" title', name)\n",
      "    if search:\n",
      "        name = re.sub(r'<img.*/>', search.group(1), name)\n",
      "    menu_raw = menu_raw + name + \". \"\n",
      "\n",
      "name_translated = translate(unicode(menu_raw, 'utf-8'), \"ja\")\n",
      "menu_name = [name for name in name_translated.split(u'\u3002')]\n",
      "\n",
      "menu_image_res  = today.findAll('img',{'width':'100%'})\n",
      "menu_image = [url+image['src'][2::] for image in menu_image_res[0:2]]\n",
      "    \n",
      "print menu_name[0]\n",
      "print menu_image"
     ],
     "language": "python",
     "metadata": {},
     "outputs": [
      {
       "output_type": "stream",
       "stream": "stdout",
       "text": [
        "\u30b5\u30ef\u30fc \u30af\u30ea\u30fc\u30e0\u30013 \u3064\u306e\u30c8\u30eb\u30c6\u30a3\u30fc\u30e4\u3068\u30b5\u30e9\u30c0 \u30d3\u30fc\u30d5\u306e\u5510\u8f9b\u5b50\u8a50\u6b3a Carne.\n",
        "[u'http://www.mensa-kl.de/img/qm.png', u'http://www.mensa-kl.de/mimg/vj5n_IMG_0496.jpg']\n"
       ]
      }
     ],
     "prompt_number": 8
    },
    {
     "cell_type": "code",
     "collapsed": false,
     "input": [],
     "language": "python",
     "metadata": {},
     "outputs": []
    }
   ],
   "metadata": {}
  }
 ]
}