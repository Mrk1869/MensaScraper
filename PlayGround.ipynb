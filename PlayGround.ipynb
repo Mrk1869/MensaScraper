{
 "metadata": {
  "name": "PlayGround"
 },
 "nbformat": 3,
 "nbformat_minor": 0,
 "worksheets": [
  {
   "cells": [
    {
     "cell_type": "code",
     "collapsed": false,
     "input": [
      "import urllib2\n",
      "import BeautifulSoup\n",
      "import re\n",
      "from microsofttranslator import Translator"
     ],
     "language": "python",
     "metadata": {},
     "outputs": [],
     "prompt_number": 12
    },
    {
     "cell_type": "code",
     "collapsed": false,
     "input": [
      "url = \"http://www.mensa-kl.de/\"\n",
      "html = urllib2.urlopen(url).read()\n",
      "soup = BeautifulSoup.BeautifulSoup(html)"
     ],
     "language": "python",
     "metadata": {},
     "outputs": [],
     "prompt_number": 13
    },
    {
     "cell_type": "code",
     "collapsed": false,
     "input": [
      "today =  soup.find('div',{'id':'day1'})\n",
      "date_res = today.find('b').renderContents().strip()\n",
      "date = date_res.split(', ')[1]\n",
      "print date"
     ],
     "language": "python",
     "metadata": {},
     "outputs": [
      {
       "output_type": "stream",
       "stream": "stdout",
       "text": [
        "13.12.2013\n"
       ]
      }
     ],
     "prompt_number": 14
    },
    {
     "cell_type": "code",
     "collapsed": false,
     "input": [
      "def translate(query, to):\n",
      "    for line in open(\"./key/translator.txt\"):\n",
      "        id_match = re.match('[ \\\\t]*<ID>(.*)</ID>', line)\n",
      "        if id_match:\n",
      "            translator_id = id_match.group(1)\n",
      "        key_match = re.match('[ \\\\t]*<Key>(.*)</Key>', line)\n",
      "        if key_match:\n",
      "            translator_key = key_match.group(1)\n",
      "    translator = Translator(translator_id,translator_key)\n",
      "    return translator.translate(query, to)"
     ],
     "language": "python",
     "metadata": {},
     "outputs": [],
     "prompt_number": 15
    },
    {
     "cell_type": "code",
     "collapsed": false,
     "input": [
      "menu_raw = \"\"\n",
      "menu_name_res = today.findAll('p',{'onclick':re.compile(r'markMeal.*')})\n",
      "for name in menu_name_res[0:2]:\n",
      "    name = name.renderContents()\n",
      "    search = re.search(r'alt=\"(.*)\" title', name)\n",
      "    if search:\n",
      "        name = re.sub(r'<img.*/>', search.group(1), name)\n",
      "    menu_raw = menu_raw + name + \". \"\n",
      "\n",
      "name_translated = translate(unicode(menu_raw, 'utf-8'), \"ja\")\n",
      "menu_name = [name for name in name_translated.split(u'\u3002')]\n",
      "\n",
      "menu_image_res  = today.findAll('img',{'width':'100%'})\n",
      "menu_image = [url+image['src'][2::] for image in menu_image_res[0:2]]\n",
      "    \n",
      "print menu_name[0]\n",
      "print menu_image"
     ],
     "language": "python",
     "metadata": {},
     "outputs": [
      {
       "ename": "TranslateApiException",
       "evalue": "Cannot find an active Azure Market Place Translator Subscription associated with the request credentials. : ID=0934.V2_Json.Translate.1EAD7C1B",
       "output_type": "pyerr",
       "traceback": [
        "\u001b[0;31m---------------------------------------------------------------------------\u001b[0m\n\u001b[0;31mTranslateApiException\u001b[0m                     Traceback (most recent call last)",
        "\u001b[0;32m<ipython-input-16-8c41c195eb04>\u001b[0m in \u001b[0;36m<module>\u001b[0;34m()\u001b[0m\n\u001b[1;32m      8\u001b[0m     \u001b[0mmenu_raw\u001b[0m \u001b[0;34m=\u001b[0m \u001b[0mmenu_raw\u001b[0m \u001b[0;34m+\u001b[0m \u001b[0mname\u001b[0m \u001b[0;34m+\u001b[0m \u001b[0;34m\". \"\u001b[0m\u001b[0;34m\u001b[0m\u001b[0m\n\u001b[1;32m      9\u001b[0m \u001b[0;34m\u001b[0m\u001b[0m\n\u001b[0;32m---> 10\u001b[0;31m \u001b[0mname_translated\u001b[0m \u001b[0;34m=\u001b[0m \u001b[0mtranslate\u001b[0m\u001b[0;34m(\u001b[0m\u001b[0municode\u001b[0m\u001b[0;34m(\u001b[0m\u001b[0mmenu_raw\u001b[0m\u001b[0;34m,\u001b[0m \u001b[0;34m'utf-8'\u001b[0m\u001b[0;34m)\u001b[0m\u001b[0;34m,\u001b[0m \u001b[0;34m\"ja\"\u001b[0m\u001b[0;34m)\u001b[0m\u001b[0;34m\u001b[0m\u001b[0m\n\u001b[0m\u001b[1;32m     11\u001b[0m \u001b[0mmenu_name\u001b[0m \u001b[0;34m=\u001b[0m \u001b[0;34m[\u001b[0m\u001b[0mname\u001b[0m \u001b[0;32mfor\u001b[0m \u001b[0mname\u001b[0m \u001b[0;32min\u001b[0m \u001b[0mname_translated\u001b[0m\u001b[0;34m.\u001b[0m\u001b[0msplit\u001b[0m\u001b[0;34m(\u001b[0m\u001b[0;34mu'\u3002'\u001b[0m\u001b[0;34m)\u001b[0m\u001b[0;34m]\u001b[0m\u001b[0;34m\u001b[0m\u001b[0m\n\u001b[1;32m     12\u001b[0m \u001b[0;34m\u001b[0m\u001b[0m\n",
        "\u001b[0;32m<ipython-input-15-3aa348451cb6>\u001b[0m in \u001b[0;36mtranslate\u001b[0;34m(query, to)\u001b[0m\n\u001b[1;32m      8\u001b[0m             \u001b[0mtranslator_key\u001b[0m \u001b[0;34m=\u001b[0m \u001b[0mkey_match\u001b[0m\u001b[0;34m.\u001b[0m\u001b[0mgroup\u001b[0m\u001b[0;34m(\u001b[0m\u001b[0;36m1\u001b[0m\u001b[0;34m)\u001b[0m\u001b[0;34m\u001b[0m\u001b[0m\n\u001b[1;32m      9\u001b[0m     \u001b[0mtranslator\u001b[0m \u001b[0;34m=\u001b[0m \u001b[0mTranslator\u001b[0m\u001b[0;34m(\u001b[0m\u001b[0mtranslator_id\u001b[0m\u001b[0;34m,\u001b[0m\u001b[0mtranslator_key\u001b[0m\u001b[0;34m)\u001b[0m\u001b[0;34m\u001b[0m\u001b[0m\n\u001b[0;32m---> 10\u001b[0;31m     \u001b[0;32mreturn\u001b[0m \u001b[0mtranslator\u001b[0m\u001b[0;34m.\u001b[0m\u001b[0mtranslate\u001b[0m\u001b[0;34m(\u001b[0m\u001b[0mquery\u001b[0m\u001b[0;34m,\u001b[0m \u001b[0mto\u001b[0m\u001b[0;34m)\u001b[0m\u001b[0;34m\u001b[0m\u001b[0m\n\u001b[0m",
        "\u001b[0;32m/usr/local/Cellar/python/2.7.3/Frameworks/Python.framework/Versions/2.7/lib/python2.7/site-packages/microsofttranslator-0.4-py2.7.egg/microsofttranslator/__init__.pyc\u001b[0m in \u001b[0;36mtranslate\u001b[0;34m(self, text, to_lang, from_lang, content_type, category)\u001b[0m\n\u001b[1;32m    165\u001b[0m         return self.call(\n\u001b[1;32m    166\u001b[0m             \u001b[0;34m\"http://api.microsofttranslator.com/V2/Ajax.svc/Translate\"\u001b[0m\u001b[0;34m,\u001b[0m\u001b[0;34m\u001b[0m\u001b[0m\n\u001b[0;32m--> 167\u001b[0;31m             params)\n\u001b[0m\u001b[1;32m    168\u001b[0m \u001b[0;34m\u001b[0m\u001b[0m\n\u001b[1;32m    169\u001b[0m     \u001b[0;32mdef\u001b[0m \u001b[0mtranslate_array\u001b[0m\u001b[0;34m(\u001b[0m\u001b[0mself\u001b[0m\u001b[0;34m,\u001b[0m \u001b[0mtexts\u001b[0m\u001b[0;34m,\u001b[0m \u001b[0mto_lang\u001b[0m\u001b[0;34m,\u001b[0m \u001b[0mfrom_lang\u001b[0m\u001b[0;34m=\u001b[0m\u001b[0mNone\u001b[0m\u001b[0;34m,\u001b[0m \u001b[0;34m**\u001b[0m\u001b[0moptions\u001b[0m\u001b[0;34m)\u001b[0m\u001b[0;34m:\u001b[0m\u001b[0;34m\u001b[0m\u001b[0m\n",
        "\u001b[0;32m/usr/local/Cellar/python/2.7.3/Frameworks/Python.framework/Versions/2.7/lib/python2.7/site-packages/microsofttranslator-0.4-py2.7.egg/microsofttranslator/__init__.pyc\u001b[0m in \u001b[0;36mcall\u001b[0;34m(self, url, params)\u001b[0m\n\u001b[1;32m    135\u001b[0m         \u001b[0;32mif\u001b[0m \u001b[0misinstance\u001b[0m\u001b[0;34m(\u001b[0m\u001b[0mrv\u001b[0m\u001b[0;34m,\u001b[0m \u001b[0mbasestring\u001b[0m\u001b[0;34m)\u001b[0m \u001b[0;32mand\u001b[0m\u001b[0;31m \u001b[0m\u001b[0;31m\\\u001b[0m\u001b[0;34m\u001b[0m\u001b[0m\n\u001b[1;32m    136\u001b[0m                 \u001b[0mrv\u001b[0m\u001b[0;34m.\u001b[0m\u001b[0mstartswith\u001b[0m\u001b[0;34m(\u001b[0m\u001b[0;34m\"TranslateApiException\"\u001b[0m\u001b[0;34m)\u001b[0m\u001b[0;34m:\u001b[0m\u001b[0;34m\u001b[0m\u001b[0m\n\u001b[0;32m--> 137\u001b[0;31m             \u001b[0;32mraise\u001b[0m \u001b[0mTranslateApiException\u001b[0m\u001b[0;34m(\u001b[0m\u001b[0mrv\u001b[0m\u001b[0;34m)\u001b[0m\u001b[0;34m\u001b[0m\u001b[0m\n\u001b[0m\u001b[1;32m    138\u001b[0m \u001b[0;34m\u001b[0m\u001b[0m\n\u001b[1;32m    139\u001b[0m         \u001b[0;32mreturn\u001b[0m \u001b[0mrv\u001b[0m\u001b[0;34m\u001b[0m\u001b[0m\n",
        "\u001b[0;31mTranslateApiException\u001b[0m: Cannot find an active Azure Market Place Translator Subscription associated with the request credentials. : ID=0934.V2_Json.Translate.1EAD7C1B"
       ]
      }
     ],
     "prompt_number": 16
    },
    {
     "cell_type": "code",
     "collapsed": false,
     "input": [],
     "language": "python",
     "metadata": {},
     "outputs": []
    }
   ],
   "metadata": {}
  }
 ]
}